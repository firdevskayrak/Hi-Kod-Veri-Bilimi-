{
 "cells": [
  {
   "cell_type": "markdown",
   "metadata": {},
   "source": [
    "## Dairenin alanı uygulaması\n",
    "\n",
    "- Dairenin_alanı adında bir fonksiyon oluşturunuz.\n",
    "\n",
    "- Kullanıcıdan pi ve yarıçap bilgilerini  isteyiniz.\n",
    "\n",
    "- Daha sonra alan hesabını yapınız.\n",
    "\n",
    "\n",
    "\n",
    "EK BİLGİ: Dairenin alan formülü= pi * (yarıçap* * 2)\n"
   ]
  },
  {
   "cell_type": "code",
   "execution_count": 2,
   "metadata": {},
   "outputs": [
    {
     "name": "stdout",
     "output_type": "stream",
     "text": [
      "50.26548245743669\n"
     ]
    }
   ],
   "source": [
    "import math\n",
    "def alan():\n",
    "    pi=math.pi\n",
    "    r=int(input(\"yarıçapı giriniz:\"))\n",
    "    alan=pi*(r**2)\n",
    "    return alan\n",
    "print(alan())    \n",
    "    "
   ]
  },
  {
   "cell_type": "code",
   "execution_count": null,
   "metadata": {},
   "outputs": [],
   "source": []
  },
  {
   "cell_type": "markdown",
   "metadata": {},
   "source": [
    "## Faktoriyel uygulaması\n",
    "\n",
    "- Faktoriyel adında fonksiyon oluşturunuz.\n",
    "\n",
    "- Döngü kullanarak paremetre olarak girilen sayının faktoriyelini hesaplayınız.\n",
    "\n",
    "- Format metodunu kullanarak ekrana yazdırınız.\n",
    "\n"
   ]
  },
  {
   "cell_type": "code",
   "execution_count": 10,
   "metadata": {},
   "outputs": [
    {
     "name": "stdout",
     "output_type": "stream",
     "text": [
      "i sayısının faktöriyeli: 1\n"
     ]
    }
   ],
   "source": [
    "deger=1\n",
    "def faktoriyel():\n",
    "    x=int(input(\"faktöriyeli hesaplanacak sayıyı giriniz.\"))\n",
    "    if x==1:\n",
    "        return x\n",
    "    else:\n",
    "        for i in range(x):\n",
    "            deger=i*(i+1)\n",
    "        return deger\n",
    "print(\"i sayısının faktöriyeli: {0}\".format(faktoriyel()))"
   ]
  },
  {
   "cell_type": "code",
   "execution_count": null,
   "metadata": {},
   "outputs": [],
   "source": []
  },
  {
   "cell_type": "markdown",
   "metadata": {},
   "source": [
    "## Class Uygulaması\n",
    "- Bir Personel classı oluşturunuz.\n",
    "- Attributes: id, isim, soyisim, doğum yılı, departman, haftada kaç saat çalıştığı, saatlik ücret\n",
    "- Attributleri print ve formatlama ile ekrana yazdırılız.\n",
    "\n",
    "! Örnek Formatlama: print(f'd1 : alan = {d1.alan_hesapla()} çevre = {d1.cevre_hesapla()}') "
   ]
  },
  {
   "cell_type": "code",
   "execution_count": 11,
   "metadata": {},
   "outputs": [
    {
     "name": "stdout",
     "output_type": "stream",
     "text": [
      "Personel Bilgileri:\n",
      "ID: 1234\n",
      "İsim: Ali\n",
      "Soyisim: Yılmaz\n",
      "Doğum Yılı: 1990\n",
      "Departman: Muhasebe\n",
      "Haftalık Çalışma Saati: 40\n",
      "Saatlik Ücret: 50\n",
      "\n"
     ]
    }
   ],
   "source": [
    "class Personel:\n",
    "    def __init__(self, id, isim, soyisim, dogum_yili, departman, haftalik_calisma_saati, saatlik_ucret):\n",
    "        self.id = id\n",
    "        self.isim = isim\n",
    "        self.soyisim = soyisim\n",
    "        self.dogum_yili = dogum_yili\n",
    "        self.departman = departman\n",
    "        self.haftalik_calisma_saati = haftalik_calisma_saati\n",
    "        self.saatlik_ucret = saatlik_ucret\n",
    "\n",
    "    def __str__(self):\n",
    "        return f\"Personel Bilgileri:\\nID: {self.id}\\nİsim: {self.isim}\\nSoyisim: {self.soyisim}\\nDoğum Yılı: {self.dogum_yili}\\nDepartman: {self.departman}\\nHaftalık Çalışma Saati: {self.haftalik_calisma_saati}\\nSaatlik Ücret: {self.saatlik_ucret}\\n\"\n",
    "\n",
    "personel = Personel(1234, \"Ali\", \"Yılmaz\", 1990, \"Muhasebe\", 40, 50)\n",
    "print(personel)"
   ]
  },
  {
   "cell_type": "code",
   "execution_count": null,
   "metadata": {},
   "outputs": [],
   "source": []
  },
  {
   "cell_type": "markdown",
   "metadata": {},
   "source": [
    "## Class Metotları\n",
    "\n",
    "- Personel classına aşağıdaki metotları ekleyiniz.\n",
    "\t- Yaş hesaplama: Güncel yıl - doğum yılı\n",
    "    - Maaş hesaplama: çalıştığı saat * saatlik ücret\n",
    "- Metot çıktılarını attributler ile birlikte format kullanarak gösteriniz."
   ]
  },
  {
   "cell_type": "code",
   "execution_count": 12,
   "metadata": {},
   "outputs": [
    {
     "name": "stdout",
     "output_type": "stream",
     "text": [
      "Personel Bilgileri:\n",
      "ID: 1234\n",
      "İsim: Ali\n",
      "Soyisim: Yılmaz\n",
      "Doğum Yılı: 1990\n",
      "Departman: Muhasebe\n",
      "Haftalık Çalışma Saati: 40\n",
      "Saatlik Ücret: 50\n",
      "Yaş: 33\n",
      "Maaş: 2000 TL\n",
      "\n"
     ]
    }
   ],
   "source": [
    "from datetime import date\n",
    "\n",
    "class Personel:\n",
    "    def __init__(self, id, isim, soyisim, dogum_yili, departman, haftalik_calisma_saati, saatlik_ucret):\n",
    "        self.id = id\n",
    "        self.isim = isim\n",
    "        self.soyisim = soyisim\n",
    "        self.dogum_yili = dogum_yili\n",
    "        self.departman = departman\n",
    "        self.haftalik_calisma_saati = haftalik_calisma_saati\n",
    "        self.saatlik_ucret = saatlik_ucret\n",
    "\n",
    "    def yas_hesapla(self):\n",
    "        bugun = date.today().year\n",
    "        yas = bugun - self.dogum_yili\n",
    "        return yas\n",
    "\n",
    "    def maas_hesapla(self):\n",
    "        maas = self.haftalik_calisma_saati * self.saatlik_ucret\n",
    "        return maas\n",
    "\n",
    "    def __str__(self):\n",
    "        return f\"Personel Bilgileri:\\nID: {self.id}\\nİsim: {self.isim}\\nSoyisim: {self.soyisim}\\nDoğum Yılı: {self.dogum_yili}\\nDepartman: {self.departman}\\nHaftalık Çalışma Saati: {self.haftalik_calisma_saati}\\nSaatlik Ücret: {self.saatlik_ucret}\\nYaş: {self.yas_hesapla()}\\nMaaş: {self.maas_hesapla()} TL\\n\"\n",
    "\n",
    "personel = Personel(1234, \"Ali\", \"Yılmaz\", 1990, \"Muhasebe\", 40, 50)\n",
    "print(personel)"
   ]
  },
  {
   "cell_type": "code",
   "execution_count": null,
   "metadata": {},
   "outputs": [],
   "source": []
  },
  {
   "attachments": {},
   "cell_type": "markdown",
   "metadata": {},
   "source": [
    "## INHERITANCE (KALITIM)"
   ]
  },
  {
   "cell_type": "markdown",
   "metadata": {},
   "source": [
    "\"Calisan\" adlı bir sınıf tanımlayın. Bu sınıfa \"ad\", \"soyad\", \"maas\" özellikleri ekleyin. Bu sınıfta bir \"calis\" metodunu tanımlayın, bu metod çalışanların işyerinde çalıştığını belirten bir çıktı versin"
   ]
  },
  {
   "cell_type": "code",
   "execution_count": 16,
   "metadata": {},
   "outputs": [
    {
     "name": "stdout",
     "output_type": "stream",
     "text": [
      "Firdevs Kayrak işyerinde çalışıyor\n"
     ]
    }
   ],
   "source": [
    "class Calisan:\n",
    "    def __init__(self,ad,soyad,maas):\n",
    "        self.ad=ad\n",
    "        self.soyad=soyad\n",
    "        self.maas=maas\n",
    "\n",
    "    def calis(self):\n",
    "        print(f\"{self.ad} {self.soyad} işyerinde çalışıyor\")\n",
    "calisan1=Calisan(\"Firdevs\", \"Kayrak\", 10000)\n",
    "calisan1.calis()"
   ]
  },
  {
   "cell_type": "code",
   "execution_count": null,
   "metadata": {},
   "outputs": [],
   "source": []
  },
  {
   "cell_type": "markdown",
   "metadata": {},
   "source": [
    "\"Mudur\" adlı bir alt sınıf tanımlayın. \n",
    "Bu sınıf, \"Calisan\" sınıfından miras alsın. \"\n",
    "Mudur\" sınıfı, \"Calisan\" sınıfında tanımlanan özelliklere ek olarak, \"departman\" ve \"sicil_no\" gibi özellikleri içersin. \n",
    "Bu sınıfta bir \"calis\" metodu tanımlayın, bu metod çalışanların işyerinde yönetici olarak çalıştığını belirten bir çıktı versin."
   ]
  },
  {
   "cell_type": "code",
   "execution_count": 17,
   "metadata": {},
   "outputs": [],
   "source": [
    "class Mudur(Calisan):\n",
    "    def __init__(self, ad, soyad, maas, departman, sicil_no):\n",
    "        super().__init__(ad, soyad, maas)\n",
    "        self.departman = departman\n",
    "        self.sicil_no = sicil_no\n",
    "\n",
    "    def calis(self):\n",
    "        print(f\"{self.ad} {self.soyad} işyerinde {self.departman} departmanında yönetici olarak çalışıyor.\")"
   ]
  },
  {
   "cell_type": "code",
   "execution_count": null,
   "metadata": {},
   "outputs": [],
   "source": []
  },
  {
   "cell_type": "markdown",
   "metadata": {},
   "source": [
    "\"Isci\" adlı bir alt sınıf tanımlayın. Bu sınıf da \"Calisan\" sınıfından miras alsın. \n",
    "\"Isci\" sınıfı, \"Calisan\" sınıfında tanımlanan özelliklere ek olarak, \"bolum\" ve \"is_gunu_sayisi\" gibi özellikleri içersin. \n",
    "Bu sınıfta bir \"calis\" metodu tanımlayın, bu metod çalışanların işyerinde işçi olarak çalıştığını belirten bir çıktı versin."
   ]
  },
  {
   "cell_type": "markdown",
   "metadata": {},
   "source": [
    "Calisan\", \"Mudur\" ve \"Isci\" sınıflarından birkaç örnek nesne oluşturun ve bu nesnelerin özelliklerini ve metodlarını çağırın. Örneğin, bir \"Mudur\" örneği oluşturun ve bu örneğin \"ad\", \"soyad\", \"departman\" ve \"sicil_no\" özelliklerini belirleyin. Ardından, \"calis\" metodunu çağırın ve bu yöneticinin işyerinde çalıştığını belirten bir çıktı alın."
   ]
  },
  {
   "cell_type": "code",
   "execution_count": 25,
   "metadata": {},
   "outputs": [],
   "source": [
    "class Isci(Calisan):\n",
    "    def __init__(self, ad, soyad, maas, bolum, is_gun_sayisi):\n",
    "        super().__init__(ad, soyad, maas)\n",
    "        self.bolum = bolum\n",
    "        self.is_gun_sayisi = is_gun_sayisi\n",
    "\n",
    "    def calis(self):\n",
    "        print(f\"{self.ad} {self.soyad} işyerinde işçi olarak çalışıyor.\")"
   ]
  },
  {
   "cell_type": "code",
   "execution_count": 26,
   "metadata": {},
   "outputs": [
    {
     "name": "stdout",
     "output_type": "stream",
     "text": [
      "firdevs kayrak işyerinde çalışıyor\n",
      "None\n",
      "şule kayrak işyerinde IK departmanında yönetici olarak çalışıyor.\n",
      "None\n",
      "hilal kayrak işyerinde işçi olarak çalışıyor.\n",
      "None\n"
     ]
    }
   ],
   "source": [
    "calisan1=Calisan(\"firdevs\",\"kayrak\",\"10000\")\n",
    "print(calisan1.calis())\n",
    "\n",
    "calisan2=Mudur(\"şule\", \"kayrak\", \"20000\", \"IK\", 123)\n",
    "print(calisan2.calis())\n",
    "\n",
    "calisan3=Isci(\"hilal\", \"kayrak\", \"30000\", \"üretim\", 2000)\n",
    "print(calisan3.calis())"
   ]
  },
  {
   "cell_type": "code",
   "execution_count": null,
   "metadata": {},
   "outputs": [],
   "source": []
  }
 ],
 "metadata": {
  "kernelspec": {
   "display_name": "Python 3 (ipykernel)",
   "language": "python",
   "name": "python3"
  },
  "language_info": {
   "codemirror_mode": {
    "name": "ipython",
    "version": 3
   },
   "file_extension": ".py",
   "mimetype": "text/x-python",
   "name": "python",
   "nbconvert_exporter": "python",
   "pygments_lexer": "ipython3",
   "version": "3.9.13"
  }
 },
 "nbformat": 4,
 "nbformat_minor": 2
}
