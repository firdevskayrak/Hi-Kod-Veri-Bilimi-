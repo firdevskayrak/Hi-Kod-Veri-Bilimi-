{
 "cells": [
  {
   "cell_type": "markdown",
   "id": "229fb5e4",
   "metadata": {},
   "source": [
    "# 1 \n",
    "Enumerate methodunu araştırın ve aşağıdaki örneği enumerate methodu ile yapın."
   ]
  },
  {
   "cell_type": "code",
   "execution_count": null,
   "id": "96f1c03c",
   "metadata": {},
   "outputs": [],
   "source": [
    "for index in range(len(meyveler)):\n",
    "    print(\"{}. indexte bulunan meyve: {}\".format(index,meyveler[index]))"
   ]
  },
  {
   "cell_type": "code",
   "execution_count": null,
   "id": "38a26829",
   "metadata": {},
   "outputs": [],
   "source": [
    "for index, meyve in enumerate(meyveler):\n",
    "    print(\"{}. indexte bulunan meyve: {}\".format(index, meyve))"
   ]
  },
  {
   "cell_type": "markdown",
   "id": "853ffbe1",
   "metadata": {},
   "source": [
    "# 2\n",
    "Aşagıdaki listede bulunan string veri tipindeki öğeleri yeni_liste isimli değişkene ekleyin."
   ]
  },
  {
   "cell_type": "code",
   "execution_count": 2,
   "id": "cc8a78f7",
   "metadata": {},
   "outputs": [],
   "source": [
    "liste = [\"Python\",True,9,\"3\",8.4,\"Hi-Kod\",\"False\",4.7]"
   ]
  },
  {
   "cell_type": "code",
   "execution_count": 3,
   "id": "02eb1529",
   "metadata": {},
   "outputs": [
    {
     "data": {
      "text/plain": [
       "['Python', '3', 'Hi-Kod', 'False']"
      ]
     },
     "execution_count": 3,
     "metadata": {},
     "output_type": "execute_result"
    }
   ],
   "source": [
    "yeni_liste=[]\n",
    "for eleman in liste:\n",
    "    if type(eleman)==str:\n",
    "        yeni_liste.append(eleman)\n",
    "yeni_liste"
   ]
  },
  {
   "cell_type": "code",
   "execution_count": 4,
   "id": "575d68dc",
   "metadata": {},
   "outputs": [
    {
     "data": {
      "text/plain": [
       "['Python', '3', 'Hi-Kod', 'False']"
      ]
     },
     "execution_count": 4,
     "metadata": {},
     "output_type": "execute_result"
    }
   ],
   "source": [
    "yeni_liste=[]\n",
    "for eleman in liste:\n",
    "    if isinstance(eleman, str):\n",
    "        yeni_liste.append(eleman)\n",
    "yeni_liste"
   ]
  },
  {
   "cell_type": "markdown",
   "id": "a4ca65a3",
   "metadata": {},
   "source": [
    "# 3\n",
    "- Bir sözlük oluşturalım ve bu sözlükte öğrencilerin isimleri ve Matematik,Fizik,Kimya notları tutulsun.\n",
    "- Kullanıcıdan isim ve ders ismi(Matematik,Fizik,Kimya) istensin ve bu bilgilere göre çıktı verilsin."
   ]
  },
  {
   "cell_type": "code",
   "execution_count": 5,
   "id": "aa2fc2ff",
   "metadata": {},
   "outputs": [
    {
     "name": "stdout",
     "output_type": "stream",
     "text": [
      "80\n"
     ]
    }
   ],
   "source": [
    "dict={\n",
    "    \"Ali\":{\n",
    "        \"Matematik\":50,\n",
    "        \"Fizik\":70,\n",
    "        \"Kimya\":80},\n",
    "    \"Ayşe\":{\n",
    "        \"Matematik\":80,\n",
    "        \"Fizik\":100,\n",
    "        \"Kimya\":80},\n",
    "    \"Fatma\":{\n",
    "        \"Matematik\":90,\n",
    "        \"Fizik\":90,\n",
    "        \"Kimya\":100}\n",
    "\n",
    "}\n",
    "\n",
    "isim=input(\"Öğrencinin ismini giriniz.\")\n",
    "ders_ismi=input(\"Hangi dersin notunu öğrenmek istiyorsunuz?\")\n",
    "\n",
    "print(dict[isim][ders_ismi])\n",
    "\n"
   ]
  }
 ],
 "metadata": {
  "kernelspec": {
   "display_name": "Python 3 (ipykernel)",
   "language": "python",
   "name": "python3"
  },
  "language_info": {
   "codemirror_mode": {
    "name": "ipython",
    "version": 3
   },
   "file_extension": ".py",
   "mimetype": "text/x-python",
   "name": "python",
   "nbconvert_exporter": "python",
   "pygments_lexer": "ipython3",
   "version": "3.9.13"
  }
 },
 "nbformat": 4,
 "nbformat_minor": 5
}
